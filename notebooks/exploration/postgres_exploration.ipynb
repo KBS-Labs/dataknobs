{
 "cells": [
  {
   "cell_type": "markdown",
   "id": "16ec021c",
   "metadata": {},
   "source": [
    "# Postgres Exploration\n",
    "\n",
    "Explore a postgres db by indexing and querying WordNet data.\n",
    "\n",
    "\n",
    "## Prerequisite Setup: Start Postgres server\n",
    "\n",
    "For convenience, the following will start a postgres server through docker:\n",
    "\n",
    "```sh\n",
    "% bin/start_postgres.sh\n",
    "```\n",
    "\n",
    "### Requirements:\n",
    "\n",
    "Create directories/files\n",
    "  * $HOME/data/docker_pg/data\n",
    "\n",
    "## Data source: Wordnet through NLTK\n",
    "\n",
    "References:\n",
    "\n",
    "* https://www.nltk.org/howto/wordnet.html\n",
    "* https://wordnet.princeton.edu/"
   ]
  },
  {
   "cell_type": "code",
   "execution_count": null,
   "id": "b4dc23e4",
   "metadata": {},
   "outputs": [],
   "source": [
    "import notebooks.util.nbloader\n",
    "import notebooks.nb.utils as nb_utils\n",
    "\n",
    "import ipywidgets as widgets\n",
    "from ipywidgets import interact, interact_manual\n",
    "\n",
    "import json\n",
    "import numpy as np\n",
    "import os\n",
    "import pandas as pd\n",
    "from datetime import datetime\n",
    "\n",
    "import dataknobs.utils.requests_utils as requests_utils\n",
    "import dataknobs.utils.resource_utils as resource_utils\n",
    "import dataknobs.utils.sql_utils as sql_utils\n",
    "import dataknobs.utils.sys_utils as sys_utils\n",
    "import dataknobs.utils.elasticsearch_utils as es_utils\n"
   ]
  },
  {
   "cell_type": "code",
   "execution_count": null,
   "id": "cd4e0e33-182b-4840-af8a-438e76d85e65",
   "metadata": {},
   "outputs": [],
   "source": []
  },
  {
   "cell_type": "markdown",
   "id": "c29a6dce",
   "metadata": {},
   "source": [
    "## Initializations"
   ]
  },
  {
   "cell_type": "code",
   "execution_count": null,
   "id": "83912334",
   "metadata": {},
   "outputs": [],
   "source": [
    "DATADIR = resource_utils.active_datadir()\n",
    "\n",
    "##\n",
    "## Derived environmental initializations\n",
    "##\n",
    "## NOTE: Double-check this cell's output in case the auto-derivation fails\n",
    "##       and you will rely on one of these variables.\n",
    "##\n",
    "\n",
    "SUBNET = sys_utils.MySubnet()\n",
    "POSTGRES_IP = SUBNET.get_ip('postgres')\n",
    "print(f'MyIP={SUBNET.my_ip}, PG_IP={POSTGRES_IP}')\n",
    "\n",
    "PG_DB = None\n",
    "\n",
    "if POSTGRES_IP is not None:\n",
    "    PG_DB = sql_utils.PostgresDB(\n",
    "        host=POSTGRES_IP,\n",
    "    )\n",
    "else:\n",
    "    print(f'***WARNING: Postgres DB not initialized because postgres server is not up.')\n",
    "\n",
    "    \n",
    "ELASTICSEARCH_BATCHFILE = f'{DATADIR}/dev/wordnet/es_bulk.nltk.sgloss.jsonl'\n",
    "WORDNET_DF = None\n",
    "\n",
    "if 'wordnet' not in PG_DB.table_names and os.path.exists(ELASTICSEARCH_BATCHFILE):\n",
    "    # Auto upload wordnet data to the DB\n",
    "    print(f'NOTE: Uploading wordnet data to DB')\n",
    "    WORDNET_DF = es_utils.collect_batchfile_records(ELASTICSEARCH_BATCHFILE)\n",
    "    PG_DB.upload('wordnet', WORDNET_DF)\n",
    "    PG_DB = sql_utils.PostgresDB(host=POSTGRES_IP)\n",
    "    print(f'...Done')\n",
    "\n",
    "##\n",
    "## Global notebook variables\n",
    "##\n",
    "\n",
    "cur_table = None\n",
    "columns_df = None\n",
    "df = None\n",
    "query_string = None"
   ]
  },
  {
   "cell_type": "code",
   "execution_count": null,
   "id": "efd105a6",
   "metadata": {},
   "outputs": [],
   "source": []
  },
  {
   "cell_type": "markdown",
   "id": "2dbbdfe9",
   "metadata": {},
   "source": [
    "## Browse postgres tables"
   ]
  },
  {
   "cell_type": "code",
   "execution_count": null,
   "id": "e153da29",
   "metadata": {},
   "outputs": [],
   "source": [
    "if PG_DB is not None:\n",
    "    \n",
    "    print(f'DB tables:')\n",
    "    display(PG_DB.tables_df)\n",
    "    \n",
    "    @interact(\n",
    "        table_name=[None] + sorted(PG_DB.tables_df['table_name'].tolist())\n",
    "    )\n",
    "    def show_columns(table_name):\n",
    "        global cur_table, columns_df, df\n",
    "        cur_table = table_name\n",
    "        if cur_table is None:\n",
    "            print('No table selected')\n",
    "            return\n",
    "        print('Table columns:')\n",
    "        columns_df = PG_DB.get_columns(table_name)\n",
    "        display(columns_df)\n",
    "        \n",
    "        print(f'Table \"{table_name}\" preview:')\n",
    "        @interact_manual\n",
    "        def get_examples(N=10):\n",
    "            global df\n",
    "            df = PG_DB.table_head(table_name, N)\n",
    "            display(df)\n",
    "else:\n",
    "    print(f'No postgres server');"
   ]
  },
  {
   "cell_type": "code",
   "execution_count": null,
   "id": "2e59d1d6",
   "metadata": {},
   "outputs": [],
   "source": []
  },
  {
   "cell_type": "markdown",
   "id": "7ee00539",
   "metadata": {},
   "source": [
    "## Execute a query"
   ]
  },
  {
   "cell_type": "code",
   "execution_count": null,
   "id": "e5344e4d",
   "metadata": {
    "scrolled": true
   },
   "outputs": [],
   "source": [
    "if PG_DB is not None:\n",
    "    \n",
    "    @interact_manual\n",
    "    def execute_query(query=widgets.Textarea(\n",
    "        description='Query:',\n",
    "        value=query_string,\n",
    "        placeholder=f'SELECT * FROM {cur_table} LIMIT 10',\n",
    "        layout=widgets.Layout(width='600px', hieght='250px')\n",
    "    )):\n",
    "        global query_string, df\n",
    "        if query:\n",
    "            df = PG_DB.query(query)\n",
    "            query_string=query\n",
    "            display(df)\n",
    "        else:\n",
    "            print('Enter the query to execute.')\n",
    "            \n",
    "else:\n",
    "    print(f'No postgres server')"
   ]
  },
  {
   "cell_type": "code",
   "execution_count": null,
   "id": "709c1a21",
   "metadata": {},
   "outputs": [],
   "source": []
  },
  {
   "cell_type": "code",
   "execution_count": null,
   "id": "03f24f02",
   "metadata": {},
   "outputs": [],
   "source": [
    "nb_utils.fix_display()"
   ]
  }
 ],
 "metadata": {
  "kernelspec": {
   "display_name": "Python 3 (ipykernel)",
   "language": "python",
   "name": "python3"
  },
  "language_info": {
   "codemirror_mode": {
    "name": "ipython",
    "version": 3
   },
   "file_extension": ".py",
   "mimetype": "text/x-python",
   "name": "python",
   "nbconvert_exporter": "python",
   "pygments_lexer": "ipython3",
   "version": "3.12.6"
  }
 },
 "nbformat": 4,
 "nbformat_minor": 5
}
